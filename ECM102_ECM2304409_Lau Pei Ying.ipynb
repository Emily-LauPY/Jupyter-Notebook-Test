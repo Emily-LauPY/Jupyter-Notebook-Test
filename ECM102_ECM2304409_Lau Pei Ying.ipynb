{
 "cells": [
  {
   "cell_type": "code",
   "execution_count": 1,
   "id": "fe28d101-2d2d-4307-9fdd-0f8981ee933c",
   "metadata": {},
   "outputs": [],
   "source": [
    "# Group Member\n",
    "\n",
    "# ECM2304116 Lau Chai Yun\n",
    "# ECM2304120 Lim Yao Xuan\n",
    "# ECM2304406 Chin Wan Zhen\n",
    "# ECM2304408 Fong Kai Ying\n",
    "# ECM2304409 Lau Pei Ying\n",
    "# ECM2304410 Yu Yang Wan"
   ]
  },
  {
   "cell_type": "code",
   "execution_count": null,
   "id": "33d17d8f-ceb3-4dc4-9c15-5214200db73d",
   "metadata": {},
   "outputs": [],
   "source": [
    "# Task A "
   ]
  }
 ],
 "metadata": {
  "kernelspec": {
   "display_name": "Python 3 (ipykernel)",
   "language": "python",
   "name": "python3"
  },
  "language_info": {
   "codemirror_mode": {
    "name": "ipython",
    "version": 3
   },
   "file_extension": ".py",
   "mimetype": "text/x-python",
   "name": "python",
   "nbconvert_exporter": "python",
   "pygments_lexer": "ipython3",
   "version": "3.9.1"
  }
 },
 "nbformat": 4,
 "nbformat_minor": 5
}
